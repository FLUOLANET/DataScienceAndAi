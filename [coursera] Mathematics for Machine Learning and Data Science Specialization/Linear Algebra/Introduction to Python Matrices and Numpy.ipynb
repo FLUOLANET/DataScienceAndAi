{
 "cells": [
  {
   "cell_type": "markdown",
   "id": "7c7aab8f-8c32-4aed-a43c-20c26a6d3e9d",
   "metadata": {},
   "source": [
    "# Introduction to Python Matrices and Numpy"
   ]
  },
  {
   "cell_type": "markdown",
   "id": "d96eec92-dabf-4ae5-a030-9408607df65d",
   "metadata": {},
   "source": [
    "## 1. Basics of NumPy"
   ]
  },
  {
   "cell_type": "code",
   "execution_count": 11,
   "id": "ec397842-ffd3-4eb3-89df-1b3d23f2a2e0",
   "metadata": {},
   "outputs": [],
   "source": [
    "# import numpy library\n",
    "import numpy as np"
   ]
  },
  {
   "cell_type": "code",
   "execution_count": 12,
   "id": "6c5712a0-4fe9-48b3-a27e-ee4e28143c56",
   "metadata": {},
   "outputs": [
    {
     "name": "stdout",
     "output_type": "stream",
     "text": [
      "a: [1 2 3]\n",
      "b: [0 1 2]\n",
      "c: [ 1  6 11 16]\n",
      "d: [ 0  6 12 18 24 30]\n"
     ]
    }
   ],
   "source": [
    "# One-Dimensional Array(All elements must have same datatype)\n",
    "\n",
    "# 1) array\n",
    "a = np.array([1, 2, 3])\n",
    "\n",
    "# 2) arange\n",
    "b = np.arange(3) #not arrange\n",
    "c = np.arange(1, 20, 5) # from 1 to 20, incremented by 5\n",
    "\n",
    "# 3) linspace\n",
    "d = np.linspace(0, 30, 6, dtype = int) # 6 evenly spaced values in the interval [0, 30]\n",
    "\n",
    "print(f\"a: {a}\")\n",
    "print(f\"b: {b}\")\n",
    "print(f\"c: {c}\")\n",
    "print(f\"d: {d}\")"
   ]
  },
  {
   "cell_type": "code",
   "execution_count": 36,
   "id": "0d4bfab1-f90f-4ad9-9858-1f48786ff4bb",
   "metadata": {},
   "outputs": [
    {
     "name": "stdout",
     "output_type": "stream",
     "text": [
      "ones: [1. 1. 1. 1. 1.]\n",
      "zeors: [0 0 0 0 0 0 0]\n",
      "empty: [5.e-324 5.e-324 5.e-324]\n",
      "random: [0.10778292 0.45523628 0.7517373  0.21254986 0.13467971 0.04336523\n",
      " 0.87678217]\n"
     ]
    }
   ],
   "source": [
    "# More Arrays\n",
    "\n",
    "# ones: a new array filled with 1\n",
    "ones = np.ones(5)\n",
    "\n",
    "# zeros: a new array filled with 0\n",
    "zeros = np.zeros(7, dtype = int)\n",
    "\n",
    "# empty: a new array without initializing entries (trash values)\n",
    "empty = np.empty(3)\n",
    "\n",
    "# random: a new array with random numbers between [0, 1]\n",
    "random = np.random.rand(7)\n",
    "\n",
    "print(f\"ones: {ones}\")\n",
    "print(f\"zeors: {zeros}\")\n",
    "print(f\"empty: {empty}\")\n",
    "print(f\"random: {random}\")"
   ]
  },
  {
   "cell_type": "markdown",
   "id": "939dded5-089b-4517-98b8-0c7cbe861643",
   "metadata": {},
   "source": [
    "## 2. Multidimensional Arrays"
   ]
  },
  {
   "cell_type": "code",
   "execution_count": 41,
   "id": "7f7951a1-350a-442a-a38a-ca7c94ab4593",
   "metadata": {},
   "outputs": [
    {
     "name": "stdout",
     "output_type": "stream",
     "text": [
      "twoDimensionArr:\n",
      " [[ 1  3  5]\n",
      " [ 7  9 11]]\n",
      "\n",
      "oneDim\n",
      ": [1 2 3 4 5 6]\n",
      "\n",
      "multiDim\n",
      ": [[1 2]\n",
      " [3 4]\n",
      " [5 6]]\n"
     ]
    }
   ],
   "source": [
    "# Create a Two-Dimensional Array\n",
    "twoDimensionArr = np.array([[1, 3, 5], [7, 9 ,11]])\n",
    "\n",
    "# reshape: One-Dimensional Array -> Multi-Dimensional Array\n",
    "oneDim = np.array([1, 2, 3, 4, 5, 6])\n",
    "multiDim = np.reshape(oneDim, (3, 2))\n",
    "\n",
    "print(f\"twoDimensionArr:\\n {twoDimensionArr}\\n\")\n",
    "print(f\"oneDim\\n: {oneDim}\\n\")\n",
    "print(f\"multiDim\\n: {multiDim}\")"
   ]
  },
  {
   "cell_type": "code",
   "execution_count": 50,
   "id": "ffff375e-8b42-464a-af0c-1e01f963bd13",
   "metadata": {},
   "outputs": [
    {
     "name": "stdout",
     "output_type": "stream",
     "text": [
      "Dimensions: 2\n",
      "shape: (2, 3)\n",
      "size: 6\n"
     ]
    }
   ],
   "source": [
    "# .ndim: dimensions of the array\n",
    "print(f\"Dimensions: {twoDimensionArr.ndim}\")\n",
    "\n",
    "# .shape: shape of the array - (rows, columns)\n",
    "print(f\"shape: {twoDimensionArr.shape}\")\n",
    "\n",
    "# .size: number of elements in the array\n",
    "print(f\"size: {twoDimensionArr.size}\")"
   ]
  },
  {
   "cell_type": "markdown",
   "id": "e1905bcd-a846-43a3-bdd4-5cc184741f33",
   "metadata": {},
   "source": [
    "## 3. Array Math Operations"
   ]
  },
  {
   "cell_type": "code",
   "execution_count": 54,
   "id": "c9251d66-ac9b-4c11-a4ab-fd0b35583e79",
   "metadata": {},
   "outputs": [
    {
     "name": "stdout",
     "output_type": "stream",
     "text": [
      "[ 3  8 13]\n",
      "[-1 -2 -3]\n",
      "[ 2 15 40]\n"
     ]
    }
   ],
   "source": [
    "# Availabe for both 1-D and Multi-Dimensional Arrays\n",
    "arr1 = np.array([1, 3, 5])\n",
    "arr2 = np.array([2, 5, 8])\n",
    "\n",
    "# +: Adding\n",
    "print(arr1 + arr2)\n",
    "\n",
    "# -: Subtracting\n",
    "print(arr1 - arr2)\n",
    "\n",
    "# *: Multiplying\n",
    "print(arr1 * arr2)"
   ]
  },
  {
   "cell_type": "code",
   "execution_count": 58,
   "id": "bb6268ea-0bf9-48f1-95c0-685ae0d091a5",
   "metadata": {},
   "outputs": [
    {
     "name": "stdout",
     "output_type": "stream",
     "text": [
      "vector:\n",
      " [[1 3 5 7]\n",
      " [2 4 6 8]]\n",
      "\n",
      "vector * 3.14\n",
      "= [[ 3.14  9.42 15.7  21.98]\n",
      " [ 6.28 12.56 18.84 25.12]]\n"
     ]
    }
   ],
   "source": [
    "# Multiplying Vectors with a Scalar (Broadcasting)\n",
    "# Boradcasting allows to perform operations on arrays of different shapes\n",
    "\n",
    "vector = np.array([[1, 3, 5, 7], [2, 4, 6, 8]])\n",
    "print(f\"vector:\\n {vector}\\n\")\n",
    "print(f\"vector * 3.14\\n= {vector * 3.14}\")\n"
   ]
  },
  {
   "cell_type": "markdown",
   "id": "889e7a1c",
   "metadata": {},
   "source": [
    "## 4. Indexing and Slicing"
   ]
  },
  {
   "cell_type": "code",
   "execution_count": 24,
   "id": "3a4478df",
   "metadata": {},
   "outputs": [
    {
     "name": "stdout",
     "output_type": "stream",
     "text": [
      "3\n",
      "8\n"
     ]
    }
   ],
   "source": [
    "# Indexing\n",
    "\n",
    "# 1-D\n",
    "anArray = ([1, 2, 3, 4, 5, 6])\n",
    "k = anArray[2] # third entry\n",
    "\n",
    "# 2-D\n",
    "Array2 = np.array([[1, 2, 3], [4, 5, 6], [7, 8, 9]])\n",
    "l = Array2[2][1] # select 8\n",
    "\n",
    "print(k)\n",
    "print(l)"
   ]
  },
  {
   "cell_type": "code",
   "execution_count": 21,
   "id": "f22d4ce0",
   "metadata": {},
   "outputs": [
    {
     "name": "stdout",
     "output_type": "stream",
     "text": [
      "[3, 5, 7]\n",
      "[ 2  5  8 11]\n",
      "[4 5 6]\n",
      "[[5 6]\n",
      " [8 9]]\n"
     ]
    }
   ],
   "source": [
    "# slicing\n",
    "# array[start: end: step]\n",
    "\n",
    "oneDimArray = ([1, 2, 3, 4, 5, 6, 7, 8, 9, 10])\n",
    "slicedOneDimArray = oneDimArray[2:7:2]\n",
    "\n",
    "# 2-D: [row, column]\n",
    "twoDimArray = np.array([[1, 2, 3], [4, 5, 6], [7, 8, 9], [10, 11, 12]])\n",
    "slicedTwoDimArray1 = twoDimArray[: ,1] # second column\n",
    "slicedTwoDimArray2 = twoDimArray[1] # second row\n",
    "slicedTwoDimArray3 = twoDimArray[1:3, 1:3] # 2-4 row, 2-4 column\n",
    "\n",
    "print(slicedOneDimArray)\n",
    "print(slicedTwoDimArray1)\n",
    "print(slicedTwoDimArray2)\n",
    "print(slicedTwoDimArray3)\n"
   ]
  },
  {
   "cell_type": "markdown",
   "id": "e1656c2d",
   "metadata": {},
   "source": [
    "## 5. Stacking"
   ]
  },
  {
   "cell_type": "code",
   "execution_count": 30,
   "id": "070f0b0e",
   "metadata": {},
   "outputs": [
    {
     "name": "stdout",
     "output_type": "stream",
     "text": [
      "vertical stack:\n",
      " [[1 1]\n",
      " [2 2]\n",
      " [3 3]\n",
      " [4 4]]\n",
      "\n",
      "horizontal stack:\n",
      " [[1 1 3 3]\n",
      " [2 2 4 4]]\n"
     ]
    }
   ],
   "source": [
    "arr1 = np.array([[1, 1], [2, 2]])\n",
    "arr2 = np.array([[3, 3], [4, 4]])\n",
    "\n",
    "# vstack: Stack the arrays vertically\n",
    "verticalStack = np.vstack((arr1, arr2)) # not np.vstack(arr1, arr2)\n",
    "\n",
    "# hstack: Stack the arrays horizontally\n",
    "horizontalStack = np.hstack((arr1, arr2)) # not np.hstack(arr1, arr2)\n",
    "\n",
    "print(f\"vertical stack:\\n {verticalStack}\\n\")\n",
    "print(f\"horizontal stack:\\n {horizontalStack}\")"
   ]
  },
  {
   "cell_type": "code",
   "execution_count": null,
   "id": "6dd37e7a",
   "metadata": {},
   "outputs": [],
   "source": []
  }
 ],
 "metadata": {
  "kernelspec": {
   "display_name": "Python 3",
   "language": "python",
   "name": "python3"
  },
  "language_info": {
   "codemirror_mode": {
    "name": "ipython",
    "version": 3
   },
   "file_extension": ".py",
   "mimetype": "text/x-python",
   "name": "python",
   "nbconvert_exporter": "python",
   "pygments_lexer": "ipython3",
   "version": "3.13.0"
  }
 },
 "nbformat": 4,
 "nbformat_minor": 5
}
